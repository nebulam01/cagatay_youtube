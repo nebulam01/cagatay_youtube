{
  "nbformat": 4,
  "nbformat_minor": 0,
  "metadata": {
    "colab": {
      "name": "ders10",
      "provenance": [],
      "authorship_tag": "ABX9TyMU0PmoPqPbhisj1NWoEsSg",
      "include_colab_link": true
    },
    "kernelspec": {
      "name": "python3",
      "display_name": "Python 3"
    },
    "language_info": {
      "name": "python"
    }
  },
  "cells": [
    {
      "cell_type": "markdown",
      "metadata": {
        "id": "view-in-github",
        "colab_type": "text"
      },
      "source": [
        "<a href=\"https://colab.research.google.com/github/nebulam01/cagatay_youtube/blob/master/ders10.ipynb\" target=\"_parent\"><img src=\"https://colab.research.google.com/assets/colab-badge.svg\" alt=\"Open In Colab\"/></a>"
      ]
    },
    {
      "cell_type": "code",
      "metadata": {
        "id": "7tfE2uHkhNzj"
      },
      "source": [
        "from collection import Counter\n",
        "class SucRaporu():\n",
        "  def _init_(self,bolge,tarih,suc_tipi='all-crime'):\n",
        "    self.bolge= bolge\n",
        "    self.tarih=tarih\n",
        "    self.suc_tipi= suc_tipi\n",
        "    self.suclar= self.sucları_bul()\n",
        "\n",
        "    def suclari_bul(self):\n",
        "      suc_URL ='https://data.police.uk/api/crimes-no-location'\n",
        "\n",
        "      payload ={\n",
        "          'category': self.suc_tipi,\n",
        "          'force': self.bolge,\n",
        "          'date': self.tarih}\n",
        "          response = requests.get(suc_URL,params= payload)\n",
        "\n",
        "       if response.status_code==200:\n",
        "         return response.json()   \n",
        "        else:\n",
        "          return None"
      ],
      "execution_count": null,
      "outputs": []
    },
    {
      "cell_type": "markdown",
      "metadata": {
        "id": "Z-HbMwUamBUq"
      },
      "source": [
        "post talebi"
      ]
    },
    {
      "cell_type": "code",
      "metadata": {
        "id": "HZhJcfCqmEC0"
      },
      "source": [
        "#https://www.image-charts.com/\n",
        "import requests"
      ],
      "execution_count": null,
      "outputs": []
    },
    {
      "cell_type": "code",
      "metadata": {
        "id": "CSINj3yOmOKq"
      },
      "source": [
        "grafik_URL ='https://image-charts.com/chart'\n",
        "payload ={\n",
        "    'chs': '700x190',\n",
        "    'chd':'t:60,40',\n",
        "    'cht':'p3',\n",
        "    'chl':'Hello|World',\n",
        "    'chan':None,\n",
        "    'chf':'ps0-0,lg,45,ffeb3b,0.2,f44336,1|ps0-1,lg,45,8bc34a,0.2,009688,1'\n",
        "}\n",
        "response= requests.post(grafik_URL,data=payload)"
      ],
      "execution_count": null,
      "outputs": []
    },
    {
      "cell_type": "code",
      "metadata": {
        "id": "L5gCAplKnMwm"
      },
      "source": [
        "response.status_code"
      ],
      "execution_count": null,
      "outputs": []
    },
    {
      "cell_type": "code",
      "metadata": {
        "id": "8L2ei7JUnRIV"
      },
      "source": [
        "response.content"
      ],
      "execution_count": null,
      "outputs": []
    },
    {
      "cell_type": "code",
      "metadata": {
        "id": "mtxyunkbnWe3"
      },
      "source": [
        "type(response.content)"
      ],
      "execution_count": null,
      "outputs": []
    },
    {
      "cell_type": "code",
      "metadata": {
        "id": "IhmE_mzKngA1"
      },
      "source": [
        "from PIL import Image\n",
        "from io import BytesIO\n",
        "\n",
        "image=Image.open(ByteIO(response.content))\n",
        "image.show()"
      ],
      "execution_count": null,
      "outputs": []
    },
    {
      "cell_type": "code",
      "metadata": {
        "id": "RAoAX7uqnwAV"
      },
      "source": [
        "#https://www.gamesradar.com/fifa-21-ratings/\n",
        "import requests\n",
        "import IPython.display as Disp"
      ],
      "execution_count": null,
      "outputs": []
    }
  ]
}