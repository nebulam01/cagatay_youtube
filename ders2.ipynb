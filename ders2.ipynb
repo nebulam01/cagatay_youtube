{
  "nbformat": 4,
  "nbformat_minor": 0,
  "metadata": {
    "colab": {
      "name": "ders2",
      "provenance": [],
      "authorship_tag": "ABX9TyONzC1pVKKAVf6uF8z2tdh0",
      "include_colab_link": true
    },
    "kernelspec": {
      "name": "python3",
      "display_name": "Python 3"
    },
    "language_info": {
      "name": "python"
    }
  },
  "cells": [
    {
      "cell_type": "markdown",
      "metadata": {
        "id": "view-in-github",
        "colab_type": "text"
      },
      "source": [
        "<a href=\"https://colab.research.google.com/github/nebulam01/cagatay_youtube/blob/master/ders2.ipynb\" target=\"_parent\"><img src=\"https://colab.research.google.com/assets/colab-badge.svg\" alt=\"Open In Colab\"/></a>"
      ]
    },
    {
      "cell_type": "code",
      "metadata": {
        "id": "u6UFju4aOrcO"
      },
      "source": [
        "%1s"
      ],
      "execution_count": null,
      "outputs": []
    },
    {
      "cell_type": "code",
      "metadata": {
        "colab": {
          "base_uri": "https://localhost:8080/",
          "height": 35
        },
        "id": "I1bKrvMKO5_Y",
        "outputId": "78d63bcd-241d-44fa-8ad9-460e1e5e6419"
      },
      "source": [
        "%pwd"
      ],
      "execution_count": 2,
      "outputs": [
        {
          "output_type": "execute_result",
          "data": {
            "application/vnd.google.colaboratory.intrinsic+json": {
              "type": "string"
            },
            "text/plain": [
              "'/content'"
            ]
          },
          "metadata": {},
          "execution_count": 2
        }
      ]
    },
    {
      "cell_type": "markdown",
      "metadata": {
        "id": "bSFXTFNkPK3M"
      },
      "source": [
        "os modülü\n",
        "navigasyon ve içerik listeleme"
      ]
    },
    {
      "cell_type": "code",
      "metadata": {
        "id": "q95LaE9aPEll"
      },
      "source": [
        "import os"
      ],
      "execution_count": null,
      "outputs": []
    },
    {
      "cell_type": "code",
      "metadata": {
        "id": "fJbq4W4qPX8q"
      },
      "source": [
        "os.getcwd()"
      ],
      "execution_count": null,
      "outputs": []
    },
    {
      "cell_type": "code",
      "metadata": {
        "id": "GkaEvaRRPX_Q"
      },
      "source": [
        "os.listdir()"
      ],
      "execution_count": null,
      "outputs": []
    },
    {
      "cell_type": "markdown",
      "metadata": {
        "id": "qs4VWP9oPgLO"
      },
      "source": [
        "yeni eleman oluşturma,isim degistirme ve silme"
      ]
    },
    {
      "cell_type": "code",
      "metadata": {
        "id": "1N6CJ68DPeS7"
      },
      "source": [
        "os.listdir('C:\\\\Users')"
      ],
      "execution_count": null,
      "outputs": []
    },
    {
      "cell_type": "code",
      "metadata": {
        "id": "Qr0vs1uwP7VR"
      },
      "source": [
        "## os.O_RDONLY - Read Only\n",
        "## os.O_WRONLY - Write Only\n",
        "## os.O_RDWR   - Read and Write\n",
        "## os.O_CREAT  - Create\n",
        "\n",
        "yeni_dosya= os.open('yeni_dosya.txt',os.O_RDWR|os.O_CREAT)\n",
        "os.write(yeni_dosya, \"Merhaba dünya!\".encode())\n",
        "os.close(yeni_dosya)"
      ],
      "execution_count": null,
      "outputs": []
    },
    {
      "cell_type": "code",
      "metadata": {
        "id": "4qjqEJwPROxE"
      },
      "source": [
        "yeni_dosya = os.open('yeni_dosya.txt', os.O_RDONLY)\n",
        "os.read(yeni_dosya,5)"
      ],
      "execution_count": null,
      "outputs": []
    },
    {
      "cell_type": "code",
      "metadata": {
        "id": "YnX3fqleR13c"
      },
      "source": [
        "yeni_dosya = os.open('yeni_dosya.txt', os.O_RDONLY)\n",
        "uzunluk = os.stat(yeni_dosya).st_size\n",
        "#icerik = os.read(yeni_dosya,uzunluk)\n",
        "print(icerik.decode())\n",
        "os.close(yeni_dosya)"
      ],
      "execution_count": null,
      "outputs": []
    },
    {
      "cell_type": "code",
      "metadata": {
        "id": "2Ra1-H8KS1HE"
      },
      "source": [
        "os.unlink('yeni_dosya.txt')"
      ],
      "execution_count": null,
      "outputs": []
    },
    {
      "cell_type": "markdown",
      "metadata": {
        "id": "Ed2Hv9XsTHDz"
      },
      "source": [
        "regular expressions(regex)"
      ]
    },
    {
      "cell_type": "code",
      "metadata": {
        "id": "HPSKnwE3Tc_V"
      },
      "source": [
        "import re"
      ],
      "execution_count": null,
      "outputs": []
    },
    {
      "cell_type": "code",
      "metadata": {
        "id": "gyYKd1TGTfiZ"
      },
      "source": [
        "cumle= \"Mustafa Kemal Atatürk, Türk asker, devlet adamı ve Türkiye Cumhuriyeti'nin kurucusudur.\"\n",
        "patern= \"Türk\"\n",
        "re.search(patern, cumle)"
      ],
      "execution_count": null,
      "outputs": []
    },
    {
      "cell_type": "code",
      "metadata": {
        "id": "gbgeVSEOUTaa"
      },
      "source": [
        "durum.start()"
      ],
      "execution_count": null,
      "outputs": []
    },
    {
      "cell_type": "code",
      "metadata": {
        "id": "Vdbz7QtsUVg6"
      },
      "source": [
        "durum.end()"
      ],
      "execution_count": null,
      "outputs": []
    },
    {
      "cell_type": "markdown",
      "metadata": {
        "id": "iVg5UOHpT52q"
      },
      "source": [
        "coklu eslesmelerde (match)"
      ]
    },
    {
      "cell_type": "code",
      "metadata": {
        "id": "xJm1_lKiT5Be"
      },
      "source": [
        "durum= re.search(patern, cumle)\n",
        "durum.span()"
      ],
      "execution_count": null,
      "outputs": []
    },
    {
      "cell_type": "code",
      "metadata": {
        "id": "WPG69RmLUO89"
      },
      "source": [
        "for eslesme in re.findall(patern, cumle):\n",
        "  print(eslesme)"
      ],
      "execution_count": null,
      "outputs": []
    },
    {
      "cell_type": "code",
      "metadata": {
        "id": "d4cV8Q17UxL9"
      },
      "source": [
        "for eslesme in re.findall(patern,cumle):\n",
        "  print(eslesme.span(), eslesme.group))"
      ],
      "execution_count": null,
      "outputs": []
    },
    {
      "cell_type": "markdown",
      "metadata": {
        "id": "3UjL5GDEVFW0"
      },
      "source": [
        "dinamik kullanım "
      ]
    },
    {
      "cell_type": "code",
      "metadata": {
        "id": "C7aTSLMYVG-b"
      },
      "source": [
        "ornek= \"base42\"\n",
        "patern= \"sbase\\d\\d\"\n",
        "re.search(patern,ornek)"
      ],
      "execution_count": null,
      "outputs": []
    },
    {
      "cell_type": "code",
      "metadata": {
        "id": "cR6B9eilVbH3"
      },
      "source": [
        "cumle= \"selam, benim telefon numaram 0535-8886622.\"\n",
        "patern=r\"\\d\\d\\d\\d-\\d\\d\\d\\d\\d\\d\\d\"\n",
        "re.search(patern, cumle)"
      ],
      "execution_count": null,
      "outputs": []
    },
    {
      "cell_type": "code",
      "metadata": {
        "id": "_xpP-EyfVbT9"
      },
      "source": [
        ""
      ],
      "execution_count": null,
      "outputs": []
    }
  ]
}