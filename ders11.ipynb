{
  "nbformat": 4,
  "nbformat_minor": 0,
  "metadata": {
    "colab": {
      "name": "ders11",
      "provenance": [],
      "authorship_tag": "ABX9TyPZkBXkt0T+OXN3LamGQIyi",
      "include_colab_link": true
    },
    "kernelspec": {
      "name": "python3",
      "display_name": "Python 3"
    },
    "language_info": {
      "name": "python"
    }
  },
  "cells": [
    {
      "cell_type": "markdown",
      "metadata": {
        "id": "view-in-github",
        "colab_type": "text"
      },
      "source": [
        "<a href=\"https://colab.research.google.com/github/nebulam01/cagatay_youtube/blob/master/ders11.ipynb\" target=\"_parent\"><img src=\"https://colab.research.google.com/assets/colab-badge.svg\" alt=\"Open In Colab\"/></a>"
      ]
    },
    {
      "cell_type": "code",
      "metadata": {
        "id": "W6q4lpvfpQUd"
      },
      "source": [
        "from IPython.display import Image\n",
        "Image(filename='C:\\\\Users\\\\zipla\\\\Downloads\\\\gui.png')"
      ],
      "execution_count": null,
      "outputs": []
    },
    {
      "cell_type": "code",
      "metadata": {
        "id": "ddP1Qdrlpkph"
      },
      "source": [
        "from tkinter import*\n",
        "master=Tk()\n",
        "canvas=canvas(master,height=450,width=750)\n",
        "canvas.pack()\n",
        "\n",
        "frame_ust=Frame(master, bg='#add8e6')\n",
        "frame_ust.place(relx=0.1,rely=0.1,relwifth=0.8,relheight=0.1)\n",
        "\n",
        "frame_alt_sol=Frame(master, bg='#add8e6')\n",
        "frame_alt_sol.place(relx=0.1,rely=0.21,relwifth=0.23,relheight=0.5)\n",
        "\n",
        "frame_alt_sag=Frame(master, bg='#add8e6')\n",
        "frame_alt_sag.place(relx=0.34,rely=0.21,relwifth=0.56,relheight=0.5)\n",
        "\n",
        "hatirlatma_tipi_etiket=Label(frame_ust, bg='#add8e6')\n",
        "hatirlatma_tipi_opsiyon.set(\"\\t\")\n",
        "\n",
        "hatirlatma_tipi_acilir_menu =OptionMenu(\n",
        "    frame_ust,\n",
        "    hatirlatma_tipi_opsiyon,\n",
        "    \"Dogum Günü\",\n",
        "    \"Alisveris\",\n",
        "    \"Ödeme\")\n",
        "hatirlatma_tiği_acilir_menu.pack(padx=10, pady=10, side=RIGHT)\n",
        "hatirlatma_tarih_secici=DataEntry(frame_ust,width=12,background='orange',foreground='black', borderwidth=1, locale=\"de_DE\")\n",
        "\n",
        "hatirlatma_tarihi_etiket=Label(frame_ust,bg='#add8e6', text=\"Hatirlatma Tarihi:\", font=\"Verdana 12 bold\")\n",
        "hatirlatma_tarihi_etiket.pack(padx=10, pady=10, side=LEFT)\n",
        "\n",
        "\n",
        "#part ll\n",
        "Label(frame_alt_sol,text=\"Hatirlatma yontemleri\",bg='#add8e6',font=\"Verdana 10 bold\").pack(padx=10, anchor=NW)\n",
        "var=Intvar()\n",
        "R1=Radiobutton(frame_alt_sol,text=\"Sisteme Kaydet\",variable=var,value=1,bg='#add8e6',font=\"verdana 10 bold\")\n",
        "R1.pack(anchor=NW,pady=5,padx=15)\n",
        "\n",
        "\n",
        "R2=Radiobutton(frame_alt_sol,text=\"E-posta Gönder\",variable=var,value=2,bg='#add8e6',font=\"verdana 10 bold\")\n",
        "R1.pack(anchor=NW,pady=5,padx=15)\n",
        "\n",
        "var1=Intvar()\n",
        "C1=Checkbutton(frame_alt_sol,text=\"Bir hata önce\",variable=var1,onvalue=1,offvalue=0,bg='#add8e6',font=\"verdana 10 bold\")\n",
        "C1.pack(anchor=NW,pady=5,padx=25)\n",
        "\n",
        "var2=Intvar()\n",
        "C2=Radiobutton(frame_alt_sol,text=\"Bir gün önce\",variable=var2,onvalue=2,offvalue=0,bg='#add8e6',font=\"verdana 10 bold\")\n",
        "C2.pack(anchor=NW,pady=5,padx=25)\n",
        "\n",
        "var3=Intvar()\n",
        "C3=Radiobutton(frame_alt_sol,text=\"Ayni gun\",variable=var3,onvalue=2,offvalue=0,bg='#add8e6',font=\"verdana 10 bold\")\n",
        "C3.pack(anchor=NW,pady=5,padx=25)\n",
        "\n",
        "#part lll\n",
        "\n",
        "Label(frame_alt_sag, text=\"Hatirlatma Mesaji\",bg='#add8e6',font=\"Verdana 10 bold\").pack(padx=10,pady)\n",
        "metin_alani=Text(frame_alt_sag,height=9,width=50)\n",
        "metin_alani.tag_configure('style',foreground='#bfbfbf',font='Verdana',7,'bold')\n",
        "metin_alani.pack()\n",
        "karsilama_metni='Mesajini buraya gir...'\n",
        "metin_alani.insert(END, karsilasma_metni,'style')\n",
        " gonder_butonu=Button(frame_alt_sag,text='Gönder',command=gonder)\n",
        " gonder_butonu.pack(anchor=S)\n",
        "master.mainloop()"
      ],
      "execution_count": null,
      "outputs": []
    },
    {
      "cell_type": "code",
      "metadata": {
        "id": "aAXZdfJqqFyQ"
      },
      "source": [
        "if var.get():\n",
        "  if var.get()==1:\n",
        "    son_mesaj +=\"Veriniz basarıyla sisteme kaydedilmistir.\"\n",
        "\n",
        "    tip=hatirlatma_tipi_opsiyon.get()\n",
        "    if hatirlatma_tipi_opsiyon.get()==''else\"Genel\"\n",
        "    tarih=hatirlatma_tarih_secici.get()\n",
        "    mesaj=metin_alani.get(\"1.0\",\"end\")\n",
        "\n",
        "    with open(\"hatirlatmalar.txt\",\"w\")as dosya:\n",
        "      dosya.write(\n",
        "          '{} kategorisinde,{} tarihine ve \"{}\"notuyla hatirlatma'.format(\n",
        "              tip,\n",
        "              tarih,\n",
        "              mesaj))\n",
        "      dosya.close()\n",
        "\n",
        "      elif var.get()==2:\n",
        "        son_mesaj +=\"E-posta yoluyla hatirlatma size ulasacaktir.\"\n",
        "\n",
        "        messagebox.showinfo(\"Basarili Islem\",son_mesaj)\n",
        "        else:\n",
        "          son_mesaj += \"Gerekli alanlarin dolduruldugundan emin olun!\"\n",
        "          messagebox.showwarning(\"Yetersiz Bilgi\",son_mesaj)\n",
        "\n",
        "          except:\n",
        "            son_mesaj +=\"Islem basarisiz oldu!\"\n",
        "            messagebox.showwarning(\"Basarisiz İslem\",son_mesaj)"
      ],
      "execution_count": null,
      "outputs": []
    }
  ]
}