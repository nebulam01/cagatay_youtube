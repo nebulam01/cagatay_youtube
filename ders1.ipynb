{
  "nbformat": 4,
  "nbformat_minor": 0,
  "metadata": {
    "colab": {
      "name": "ders1",
      "provenance": [],
      "authorship_tag": "ABX9TyOPyovMLrxJcZcAwA7o0+mA",
      "include_colab_link": true
    },
    "kernelspec": {
      "name": "python3",
      "display_name": "Python 3"
    },
    "language_info": {
      "name": "python"
    }
  },
  "cells": [
    {
      "cell_type": "markdown",
      "metadata": {
        "id": "view-in-github",
        "colab_type": "text"
      },
      "source": [
        "<a href=\"https://colab.research.google.com/github/nebulam01/cagatay_youtube/blob/master/ders1.ipynb\" target=\"_parent\"><img src=\"https://colab.research.google.com/assets/colab-badge.svg\" alt=\"Open In Colab\"/></a>"
      ]
    },
    {
      "cell_type": "code",
      "metadata": {
        "id": "TeY3zgwpA42P"
      },
      "source": [
        "ucus3 = Ucus('TK223', 'BOD', 'ANT', 40, 250, 200)"
      ],
      "execution_count": null,
      "outputs": []
    },
    {
      "cell_type": "markdown",
      "metadata": {
        "id": "7TtL1LNBMuog"
      },
      "source": [
        "inheritance katilim"
      ]
    },
    {
      "cell_type": "code",
      "metadata": {
        "id": "butNcHl3BGuQ"
      },
      "source": [
        "ucus3.anons_yap()"
      ],
      "execution_count": null,
      "outputs": []
    },
    {
      "cell_type": "code",
      "metadata": {
        "id": "e8KS7iIv-hgl"
      },
      "source": [
        "class Ucus():\n",
        "  havayolu= \"THY\"\n",
        "def _init_(self, kod, kalkis, varis, sure, kapasite, yolcu):\n",
        "  self.kod=kod\n",
        "  self.kalkis=kalkis\n",
        "  self.varis=varis\n",
        "  self.sure=sure\n",
        "  self.kapasite=kapasite\n",
        "  self.yolcu=yolcu\n",
        "\n",
        " def _repr(self):\n",
        "   return \"{} sefer sayili ucus, sistemde olusturulmustur..\".format(self.kod)\n",
        "  def anons_yap(self):\n",
        "    return\"{} sefer sayili {}-{} ucusumuz {} dakika sürecektir\".format(\n",
        "        self.kod,\n",
        "        self.kalkis,\n",
        "        self.varis,\n",
        "        self.sure)\n",
        "    \n",
        "  def koltuk_sayisi_guncelle(self):\n",
        "      return self.kapasite -self.yolcu\n",
        "\n",
        "   def bilet_satis(self, bilet_adedi=1):\n",
        "     #self.yolcu = self.yolcu + bilet_adedi\n",
        "     if self.yolcu + bilet_adedi <= self.kapasite:\n",
        "       self.yolcu += bilet_adedi\n",
        "       self.koltuk_sayisi_guncelle()\n",
        "       print('{} adet bilet satilmistir, kalan koltuk sayisi {}'.format(\n",
        "           bilet_adedi,\n",
        "           self.koltuk_sayisi_guncelle()))\n",
        "       \n",
        "       else:\n",
        "         print('Islem gerceklestirilemedi. Yetersiz koltuk sayisi..')\n",
        "\n",
        "         def bilet_iptal(self, bilet_adedi=1):\n",
        "           if self.yolcu >= bilet_adedi:\n",
        "             self.yolcu-=bilet_adedi\n",
        "             print('{} adet bilet iptal edilmistir, guncel koltuk sayisi {}'.format(\n",
        "                 bilet_adedi,\n",
        "                 self.koltuk_sayisi_guncelle()))"
      ],
      "execution_count": null,
      "outputs": []
    },
    {
      "cell_type": "code",
      "metadata": {
        "id": "bKnTABThCOn8"
      },
      "source": [
        "ucus3.bilet_satis(5)"
      ],
      "execution_count": null,
      "outputs": []
    },
    {
      "cell_type": "code",
      "metadata": {
        "id": "HnTCijhhCV-7"
      },
      "source": [
        "ucus3.bilet_iptal()"
      ],
      "execution_count": null,
      "outputs": []
    },
    {
      "cell_type": "code",
      "metadata": {
        "id": "pDjkMAl0Cats"
      },
      "source": [
        "ucus3.bilet_iptal(200)"
      ],
      "execution_count": null,
      "outputs": []
    },
    {
      "cell_type": "code",
      "metadata": {
        "id": "5CvB4ZfMChBU"
      },
      "source": [
        "ucus3.bilet_satis(50)"
      ],
      "execution_count": null,
      "outputs": []
    },
    {
      "cell_type": "code",
      "metadata": {
        "id": "w4TYx3jJCnXt"
      },
      "source": [
        "ucus3.koltuk_sayisi_guncelle()"
      ],
      "execution_count": null,
      "outputs": []
    },
    {
      "cell_type": "code",
      "metadata": {
        "id": "kFhjgkTJI5LR"
      },
      "source": [
        "ucus3.bilet_satis(5)"
      ],
      "execution_count": null,
      "outputs": []
    },
    {
      "cell_type": "code",
      "metadata": {
        "id": "evEVF1XMI_yp"
      },
      "source": [
        "ucus3.bilet_iptal()"
      ],
      "execution_count": null,
      "outputs": []
    },
    {
      "cell_type": "code",
      "metadata": {
        "id": "5Fj8TMx0JFGZ"
      },
      "source": [
        "ucus3._dir_()"
      ],
      "execution_count": null,
      "outputs": []
    },
    {
      "cell_type": "code",
      "metadata": {
        "id": "6-aUPlvcM4OM"
      },
      "source": [
        "class Seyahat():\n",
        "\n",
        "  def_init_(self, kalkis, varis):\n",
        "    self.kalkis= kalkis\n",
        "    self.varis=varis\n",
        "\n",
        "  def anons(self) :\n",
        "    return \"{}-{} seyahatine hosgeldiniz\".format(self.kalkis, self.varis) \n",
        "\n",
        "    class  Otobus(Seyahat):\n",
        "\n",
        "      def _init_(self, mola_duraklari):\n",
        "        Seyahat._init_(self, 'IST','ANK')\n",
        "        self.mola_duraklari= mola_duraklari"
      ],
      "execution_count": null,
      "outputs": []
    },
    {
      "cell_type": "code",
      "metadata": {
        "id": "iw3uFTyYNw9F"
      },
      "source": [
        "seyahat1= Seyahat('ANT', 'BOD')\n",
        "seyahat1.anons()"
      ],
      "execution_count": null,
      "outputs": []
    },
    {
      "cell_type": "code",
      "metadata": {
        "id": "bvtVcnBMOBFQ"
      },
      "source": [
        "oto1= Otobus(['FET', 'ALAN'])"
      ],
      "execution_count": null,
      "outputs": []
    },
    {
      "cell_type": "code",
      "metadata": {
        "id": "WkKaQx5GOLGy"
      },
      "source": [
        "oto1.mola_duraklari"
      ],
      "execution_count": null,
      "outputs": []
    },
    {
      "cell_type": "code",
      "metadata": {
        "id": "jYQuUagOORam"
      },
      "source": [
        "oto1.kalkis"
      ],
      "execution_count": null,
      "outputs": []
    },
    {
      "cell_type": "code",
      "metadata": {
        "colab": {
          "base_uri": "https://localhost:8080/",
          "height": 165
        },
        "id": "kGU9hfxLOWHr",
        "outputId": "f9280860-8678-4476-dfb7-41b9476d35de"
      },
      "source": [
        "oto1.anons()"
      ],
      "execution_count": 2,
      "outputs": [
        {
          "output_type": "error",
          "ename": "NameError",
          "evalue": "ignored",
          "traceback": [
            "\u001b[0;31m---------------------------------------------------------------------------\u001b[0m",
            "\u001b[0;31mNameError\u001b[0m                                 Traceback (most recent call last)",
            "\u001b[0;32m<ipython-input-2-035613fd01fa>\u001b[0m in \u001b[0;36m<module>\u001b[0;34m()\u001b[0m\n\u001b[0;32m----> 1\u001b[0;31m \u001b[0moto1\u001b[0m\u001b[0;34m.\u001b[0m\u001b[0manons\u001b[0m\u001b[0;34m(\u001b[0m\u001b[0;34m)\u001b[0m\u001b[0;34m\u001b[0m\u001b[0;34m\u001b[0m\u001b[0m\n\u001b[0m",
            "\u001b[0;31mNameError\u001b[0m: name 'oto1' is not defined"
          ]
        }
      ]
    }
  ]
}