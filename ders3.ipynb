{
  "nbformat": 4,
  "nbformat_minor": 0,
  "metadata": {
    "colab": {
      "name": "ders3",
      "provenance": [],
      "authorship_tag": "ABX9TyOaL/y7ldXzZabVT0+GmH/G",
      "include_colab_link": true
    },
    "kernelspec": {
      "name": "python3",
      "display_name": "Python 3"
    },
    "language_info": {
      "name": "python"
    }
  },
  "cells": [
    {
      "cell_type": "markdown",
      "metadata": {
        "id": "view-in-github",
        "colab_type": "text"
      },
      "source": [
        "<a href=\"https://colab.research.google.com/github/nebulam01/cagatay_youtube/blob/master/ders3.ipynb\" target=\"_parent\"><img src=\"https://colab.research.google.com/assets/colab-badge.svg\" alt=\"Open In Colab\"/></a>"
      ]
    },
    {
      "cell_type": "code",
      "metadata": {
        "id": "IiuPQ6DZbdJr"
      },
      "source": [
        "from collections import Counter\n",
        "import random"
      ],
      "execution_count": null,
      "outputs": []
    },
    {
      "cell_type": "code",
      "metadata": {
        "id": "iUEsyHtubqvI"
      },
      "source": [
        "list1 = random.sample(range(10), k=4)\n",
        "list2 = random.sample(range(10), k=4)\n",
        "list3 = random.sample(range(10), k=4)\n",
        "list4 = random.sample(range(10), k=4)\n",
        "\n",
        "liste_listesi = [list1, list2, list3, list4]\n",
        "list_toplam = list1 + list2 + list3 + list4\n",
        "print(liste_listesi)\n",
        "print(list_toplam)\n"
      ],
      "execution_count": null,
      "outputs": []
    },
    {
      "cell_type": "code",
      "metadata": {
        "id": "GW0bzo6U7wGb"
      },
      "source": [
        "for index, liste in enumarate(liste_listesi):\n",
        "  print('{}. liste \\t {}'.format(index+1,liste))\n",
        "  Counter(list_)"
      ],
      "execution_count": null,
      "outputs": []
    },
    {
      "cell_type": "code",
      "metadata": {
        "id": "nApwfiOh8I_-"
      },
      "source": [
        "Counter(\"adfnwrjkgn\")"
      ],
      "execution_count": null,
      "outputs": []
    },
    {
      "cell_type": "code",
      "metadata": {
        "id": "SWFRI2Z08PZx"
      },
      "source": [
        "sarki= \"\"\"\n",
        "Yine bana gel\n",
        "Yana yana yine beni sev\n",
        "Yine bana gel\n",
        "Yana yana yine beni sev\"\"\"\n",
        "print(sarki)"
      ],
      "execution_count": null,
      "outputs": []
    },
    {
      "cell_type": "code",
      "metadata": {
        "id": "kJeuPfNY8j77"
      },
      "source": [
        "Counter(sarki)"
      ],
      "execution_count": null,
      "outputs": []
    },
    {
      "cell_type": "code",
      "metadata": {
        "id": "WbdGxHhm8pGg"
      },
      "source": [
        "Counter(sarki.split())"
      ],
      "execution_count": null,
      "outputs": []
    },
    {
      "cell_type": "code",
      "metadata": {
        "id": "H4BVSdyu8s_P"
      },
      "source": [
        "sarki.lower()"
      ],
      "execution_count": null,
      "outputs": []
    },
    {
      "cell_type": "code",
      "metadata": {
        "id": "A1gqLjPX8yYD"
      },
      "source": [
        "sarki.lower().split()"
      ],
      "execution_count": null,
      "outputs": []
    },
    {
      "cell_type": "code",
      "metadata": {
        "id": "gSwW06DQ82ke"
      },
      "source": [
        "Counter(sarki.lower().split())"
      ],
      "execution_count": null,
      "outputs": []
    },
    {
      "cell_type": "code",
      "metadata": {
        "id": "ZaUpmf3w8_34"
      },
      "source": [
        "Counter(sarki.lower().split()).most_common(2)"
      ],
      "execution_count": null,
      "outputs": []
    },
    {
      "cell_type": "code",
      "metadata": {
        "id": "CApLHx0f9JDV"
      },
      "source": [
        ""
      ],
      "execution_count": null,
      "outputs": []
    }
  ]
}