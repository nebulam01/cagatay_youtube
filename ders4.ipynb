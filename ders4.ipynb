{
  "nbformat": 4,
  "nbformat_minor": 0,
  "metadata": {
    "colab": {
      "name": "ders4",
      "provenance": [],
      "authorship_tag": "ABX9TyN1T6CoJsZ7rex6jOEHeXDk",
      "include_colab_link": true
    },
    "kernelspec": {
      "name": "python3",
      "display_name": "Python 3"
    },
    "language_info": {
      "name": "python"
    }
  },
  "cells": [
    {
      "cell_type": "markdown",
      "metadata": {
        "id": "view-in-github",
        "colab_type": "text"
      },
      "source": [
        "<a href=\"https://colab.research.google.com/github/nebulam01/cagatay_youtube/blob/master/ders4.ipynb\" target=\"_parent\"><img src=\"https://colab.research.google.com/assets/colab-badge.svg\" alt=\"Open In Colab\"/></a>"
      ]
    },
    {
      "cell_type": "markdown",
      "metadata": {
        "id": "yaImxnrD9ds4"
      },
      "source": [
        "datetime.date\n"
      ]
    },
    {
      "cell_type": "code",
      "metadata": {
        "id": "pPWKnQoL9ZPX"
      },
      "source": [
        "from datetime import date"
      ],
      "execution_count": null,
      "outputs": []
    },
    {
      "cell_type": "code",
      "metadata": {
        "colab": {
          "base_uri": "https://localhost:8080/",
          "height": 183
        },
        "id": "_3wFYCJc9jQR",
        "outputId": "8826649b-e6cc-4ebc-d82b-41ce86c1ce0e"
      },
      "source": [
        "bugun = date.today()\n",
        "bugun"
      ],
      "execution_count": 2,
      "outputs": [
        {
          "output_type": "error",
          "ename": "NameError",
          "evalue": "ignored",
          "traceback": [
            "\u001b[0;31m---------------------------------------------------------------------------\u001b[0m",
            "\u001b[0;31mNameError\u001b[0m                                 Traceback (most recent call last)",
            "\u001b[0;32m<ipython-input-2-47947d57bec9>\u001b[0m in \u001b[0;36m<module>\u001b[0;34m()\u001b[0m\n\u001b[0;32m----> 1\u001b[0;31m \u001b[0mbugun\u001b[0m \u001b[0;34m=\u001b[0m \u001b[0mdate\u001b[0m\u001b[0;34m.\u001b[0m\u001b[0mtoday\u001b[0m\u001b[0;34m(\u001b[0m\u001b[0;34m)\u001b[0m\u001b[0;34m\u001b[0m\u001b[0;34m\u001b[0m\u001b[0m\n\u001b[0m\u001b[1;32m      2\u001b[0m \u001b[0mbugun\u001b[0m\u001b[0;34m\u001b[0m\u001b[0;34m\u001b[0m\u001b[0m\n",
            "\u001b[0;31mNameError\u001b[0m: name 'date' is not defined"
          ]
        }
      ]
    },
    {
      "cell_type": "code",
      "metadata": {
        "id": "bgUaC4AS90T1"
      },
      "source": [
        "dun= date(2020,10,20)\n",
        "dun"
      ],
      "execution_count": null,
      "outputs": []
    },
    {
      "cell_type": "code",
      "metadata": {
        "id": "F96Vjdfl9yJ5"
      },
      "source": [
        "bugun- dun"
      ],
      "execution_count": null,
      "outputs": []
    },
    {
      "cell_type": "code",
      "metadata": {
        "id": "F-vrfc7M98qt"
      },
      "source": [
        "zaman_araligi = bugun- dun\n",
        "zaman_araligi.days"
      ],
      "execution_count": null,
      "outputs": []
    },
    {
      "cell_type": "code",
      "metadata": {
        "id": "bkR-3TG2-EpF"
      },
      "source": [
        "yarin= bugun + datetime.timedelta(days =1)\n",
        "yarin"
      ],
      "execution_count": null,
      "outputs": []
    },
    {
      "cell_type": "code",
      "metadata": {
        "id": "JVcOrsjo-Nmr"
      },
      "source": [
        "dun >bugun"
      ],
      "execution_count": null,
      "outputs": []
    },
    {
      "cell_type": "code",
      "metadata": {
        "id": "9KunmUoz-QKD"
      },
      "source": [
        "zaman =time(21,15,5)\n",
        "print(zaman)"
      ],
      "execution_count": null,
      "outputs": []
    },
    {
      "cell_type": "code",
      "metadata": {
        "id": "7s0PqOtF-ZTE"
      },
      "source": [
        "zaman.hour"
      ],
      "execution_count": null,
      "outputs": []
    },
    {
      "cell_type": "code",
      "metadata": {
        "id": "xY70rC50-bIW"
      },
      "source": [
        "zaman.minute"
      ],
      "execution_count": null,
      "outputs": []
    },
    {
      "cell_type": "markdown",
      "metadata": {
        "id": "3zprm01I-emn"
      },
      "source": [
        "time\n"
      ]
    },
    {
      "cell_type": "code",
      "metadata": {
        "id": "d-5akK8U-cuh"
      },
      "source": [
        "import time"
      ],
      "execution_count": null,
      "outputs": []
    },
    {
      "cell_type": "code",
      "metadata": {
        "id": "wthTdVpd-jCX"
      },
      "source": [
        "time.time()"
      ],
      "execution_count": null,
      "outputs": []
    },
    {
      "cell_type": "code",
      "metadata": {
        "id": "HqfI-t6t-lsQ"
      },
      "source": [
        "baslangic_zamani = time.time()\n",
        "print(\"Baslama zamani:\\t{}\".format(baslangic_zamani))\n",
        "time.sleep(5)\n",
        "bitis_zamani= time.time()\n",
        "print(\"Bitis Zamani:\\t{}\".format(bitis_zamani))\n",
        "print(\"Calisma Suresi:\\t{}\".format(round(bitis_zamani - baslangic_zamani)))\n"
      ],
      "execution_count": null,
      "outputs": []
    },
    {
      "cell_type": "markdown",
      "metadata": {
        "id": "ePVEiT5a_lsG"
      },
      "source": [
        "decorator prensibi"
      ]
    },
    {
      "cell_type": "code",
      "metadata": {
        "id": "7E6Jl_VB_kLn"
      },
      "source": [
        "@decorator\n",
        "def..."
      ],
      "execution_count": null,
      "outputs": []
    },
    {
      "cell_type": "markdown",
      "metadata": {
        "id": "YH4TAOa4_rv1"
      },
      "source": [
        "degisken olarak fonksiyon"
      ]
    },
    {
      "cell_type": "code",
      "metadata": {
        "id": "oP6LLuEJ_vzu"
      },
      "source": [
        "def deneme():\n",
        "  print('abc')"
      ],
      "execution_count": null,
      "outputs": []
    },
    {
      "cell_type": "code",
      "metadata": {
        "id": "0Z0yQT4T_2qP"
      },
      "source": [
        "deneme()"
      ],
      "execution_count": null,
      "outputs": []
    },
    {
      "cell_type": "code",
      "metadata": {
        "id": "OLOaj6xP_33J"
      },
      "source": [
        "f =deneme"
      ],
      "execution_count": null,
      "outputs": []
    },
    {
      "cell_type": "code",
      "metadata": {
        "id": "HT3hkG3l_5s8"
      },
      "source": [
        "f()"
      ],
      "execution_count": null,
      "outputs": []
    },
    {
      "cell_type": "markdown",
      "metadata": {
        "id": "o72miLpU_733"
      },
      "source": [
        "fonksiyon içinde fonksiyon"
      ]
    },
    {
      "cell_type": "code",
      "metadata": {
        "id": "DWmr8UQ5_6pu"
      },
      "source": [
        "def deneme():\n",
        "  print(\"deneme fonksiyonu calisiyor\")\n",
        "\n",
        "  def test():\n",
        "    return \"test fonksiyonu calisiyor\"\n",
        "\n",
        "    print(test())"
      ],
      "execution_count": null,
      "outputs": []
    },
    {
      "cell_type": "code",
      "metadata": {
        "id": "6w74nuOIAQXV"
      },
      "source": [
        "deneme()"
      ],
      "execution_count": null,
      "outputs": []
    },
    {
      "cell_type": "code",
      "metadata": {
        "id": "0UFwDucBAR_8"
      },
      "source": [
        "def ikinci(f):\n",
        "  print(\"ikinci fonksiyon calisiyor\")\n",
        "\n",
        "  print(f())"
      ],
      "execution_count": null,
      "outputs": []
    },
    {
      "cell_type": "code",
      "metadata": {
        "id": "0teq6745Asg7"
      },
      "source": [
        "ikinci(deneme)"
      ],
      "execution_count": null,
      "outputs": []
    },
    {
      "cell_type": "code",
      "metadata": {
        "id": "ZILAT8ILAvYQ"
      },
      "source": [
        "def deco(f):\n",
        "\n",
        "  def wrapper():\n",
        "    print(\"Baslangic\")\n",
        "\n",
        "    f()\n",
        "    print(\"Bitis\")\n",
        "    return wrapper"
      ],
      "execution_count": null,
      "outputs": []
    },
    {
      "cell_type": "code",
      "metadata": {
        "id": "GOQV1f6bBAiv"
      },
      "source": [
        "def yazdir():\n",
        "  print(\"yazdir\")"
      ],
      "execution_count": null,
      "outputs": []
    },
    {
      "cell_type": "code",
      "metadata": {
        "id": "M1kvEg-hBE5S"
      },
      "source": [
        "def yazdir2():\n",
        "  print(\"yazdir2\")"
      ],
      "execution_count": null,
      "outputs": []
    },
    {
      "cell_type": "code",
      "metadata": {
        "id": "dWPXM0E6BLz0"
      },
      "source": [
        "yazdir= deco(yazdir)"
      ],
      "execution_count": null,
      "outputs": []
    },
    {
      "cell_type": "code",
      "metadata": {
        "id": "A0UL8S1sBOP-"
      },
      "source": [
        "yazdir2=deco(yazdir2)"
      ],
      "execution_count": null,
      "outputs": []
    },
    {
      "cell_type": "code",
      "metadata": {
        "id": "9HDgiwiIBTRu"
      },
      "source": [
        "yazdir()"
      ],
      "execution_count": null,
      "outputs": []
    },
    {
      "cell_type": "markdown",
      "metadata": {
        "id": "VIcH7SM6BWhp"
      },
      "source": [
        "aargüman alan fonksiyonlarda decorator"
      ]
    },
    {
      "cell_type": "code",
      "metadata": {
        "id": "cjvPOo4OBUiK"
      },
      "source": [
        "def deco(f):\n",
        "\n",
        "  def wrapper(*args):\n",
        "    print(\"Baslangic\")\n",
        "\n",
        "    f(*args)\n",
        "    print(\"Bitis\")\n",
        "\n",
        "    return wrapper"
      ],
      "execution_count": null,
      "outputs": []
    },
    {
      "cell_type": "code",
      "metadata": {
        "id": "wZ_dFJBdBtik"
      },
      "source": [
        "@deco\n",
        "def toplama(a,b):\n",
        "  print(a+b)"
      ],
      "execution_count": null,
      "outputs": []
    },
    {
      "cell_type": "code",
      "metadata": {
        "id": "igL6zYsyBz53"
      },
      "source": [
        "toplama(4,5)"
      ],
      "execution_count": null,
      "outputs": []
    },
    {
      "cell_type": "markdown",
      "metadata": {
        "id": "h1d5r1HIB4K9"
      },
      "source": [
        "örnek süre ölçümlemesi"
      ]
    },
    {
      "cell_type": "code",
      "metadata": {
        "id": "bvNnm1huB7u2"
      },
      "source": [
        "import time\n",
        "baslangic=time.time()\n",
        "f()\n",
        "bitis=time.time()\n",
        "bitis-baslangic"
      ],
      "execution_count": null,
      "outputs": []
    },
    {
      "cell_type": "code",
      "metadata": {
        "id": "9noZbziBCOOm"
      },
      "source": [
        "def sure_olc(f):\n",
        "  def wrapper(*args):\n",
        "\n",
        "    baslangic =time.time()\n",
        "    print(\"Baslangic Zamani.\\t{}\".format(baslangic())\n",
        "\n",
        "\n",
        "    f(*args)\n",
        "    bitis=time.time()\n",
        "    print(\"Bitis Zamani:\\t{}\".format(bitis))\n",
        "    print(\"gecen zaman:\\t{}\".format(bitis-baslangic))\n",
        "    return wrapper"
      ],
      "execution_count": null,
      "outputs": []
    }
  ]
}